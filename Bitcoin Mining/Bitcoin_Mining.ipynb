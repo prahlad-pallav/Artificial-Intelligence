{
  "nbformat": 4,
  "nbformat_minor": 0,
  "metadata": {
    "colab": {
      "provenance": []
    },
    "kernelspec": {
      "name": "python3",
      "display_name": "Python 3"
    },
    "language_info": {
      "name": "python"
    }
  },
  "cells": [
    {
      "cell_type": "code",
      "execution_count": 6,
      "metadata": {
        "id": "XnAi9Q1oyN_s"
      },
      "outputs": [],
      "source": [
        "from hashlib import sha256"
      ]
    },
    {
      "cell_type": "code",
      "source": [
        "print(sha256(\"ABC\".encode(\"ascii\")).hexdigest())"
      ],
      "metadata": {
        "colab": {
          "base_uri": "https://localhost:8080/"
        },
        "id": "5POIk3YDyUHs",
        "outputId": "b25fe980-9930-4e66-af10-bbbd903da2da"
      },
      "execution_count": 7,
      "outputs": [
        {
          "output_type": "stream",
          "name": "stdout",
          "text": [
            "b5d4045c3f466fa91fe2cc6abe79232a1a57cdf104f7a26e716e0a1e2789df78\n"
          ]
        }
      ]
    },
    {
      "cell_type": "code",
      "source": [
        "def SHA256(text):\n",
        "  return sha256(text.encode(\"ascii\")).hexdigest()"
      ],
      "metadata": {
        "id": "0Zj4-VXS3w-e"
      },
      "execution_count": 8,
      "outputs": []
    },
    {
      "cell_type": "code",
      "source": [
        "transactions = \"Prahlad->Pallav->20\""
      ],
      "metadata": {
        "id": "8uUjgaR0ygqK"
      },
      "execution_count": 9,
      "outputs": []
    },
    {
      "cell_type": "code",
      "source": [
        "MAX_NONCE = 100000000000"
      ],
      "metadata": {
        "id": "wMVOa_9T3WPD"
      },
      "execution_count": 10,
      "outputs": []
    },
    {
      "cell_type": "code",
      "source": [
        "def mining(block_number, transactions, previous_hash, prefix_zeros):\n",
        "  prefix_str = '0' * prefix_zeros\n",
        "\n",
        "  for nonce in range(MAX_NONCE):\n",
        "    text = str(block_number) + transactions + previous_hash + str(nonce)\n",
        "    new_hash = SHA256(text)\n",
        "\n",
        "    if new_hash.startswith(prefix_str):\n",
        "      print(f\"YESSS! Successfully mined bitcoin with nonce value : {nonce}\")\n",
        "      return new_hash\n",
        "\n",
        "  raise BaseException(f\"Sorry, mission failed successfully after : {MAX_NONCE} nonce\")"
      ],
      "metadata": {
        "id": "9JJIB2sj2xfW"
      },
      "execution_count": 42,
      "outputs": []
    },
    {
      "cell_type": "code",
      "source": [
        "difficulty = 6"
      ],
      "metadata": {
        "id": "Q28eUEK14qCw"
      },
      "execution_count": 52,
      "outputs": []
    },
    {
      "cell_type": "code",
      "source": [
        "import time"
      ],
      "metadata": {
        "id": "ptgOSVTM4tr2"
      },
      "execution_count": 53,
      "outputs": []
    },
    {
      "cell_type": "code",
      "source": [
        "start = time.time()\n",
        "print(\"Start mining\")\n",
        "new_hash = mining(5, transactions, '00000000839a8e6886ab5951d76f411475428afc90947ee320161bbf18eb6048', difficulty)\n",
        "total_time = str((time.time() - start))\n",
        "print(f\"Mining Ended, Mining took: {total_time} seconds\")"
      ],
      "metadata": {
        "colab": {
          "base_uri": "https://localhost:8080/"
        },
        "id": "aaq9PuwS6n6L",
        "outputId": "3d1005ec-c4f2-4433-d79d-1d476aae3943"
      },
      "execution_count": 54,
      "outputs": [
        {
          "output_type": "stream",
          "name": "stdout",
          "text": [
            "Start mining\n",
            "YESSS! Successfully mined bitcoin with nonce value : 16281869\n",
            "Mining Ended, Mining took: 35.80024337768555 seconds\n"
          ]
        }
      ]
    },
    {
      "cell_type": "code",
      "source": [
        "print(new_hash)"
      ],
      "metadata": {
        "colab": {
          "base_uri": "https://localhost:8080/"
        },
        "id": "51jcD80R5WjV",
        "outputId": "9f955312-d4ec-4052-e5a5-7487f15394c7"
      },
      "execution_count": 55,
      "outputs": [
        {
          "output_type": "stream",
          "name": "stdout",
          "text": [
            "0000009ad6936be8b12c5280497230c0eef9029e4948d93958de16ca77d20c98\n"
          ]
        }
      ]
    }
  ]
}